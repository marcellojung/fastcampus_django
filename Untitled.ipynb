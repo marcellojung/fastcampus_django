{
 "cells": [
  {
   "cell_type": "code",
   "execution_count": 3,
   "id": "d843ea22",
   "metadata": {},
   "outputs": [
    {
     "data": {
      "text/plain": [
       "<QuerySet [<Article: 1. 아이슬란드 오로라 (Iceland Aurora)>, <Article: 2. 히말라야 (Himalayas)>, <Article: 제목0>, <Article: 제목1>, <Article: 제목2>, <Article: 제목3>, <Article: 제목4>, <Article: 제목5>, <Article: 제목6>, <Article: 제목7>, <Article: 제목8>, <Article: 제목9>, <Article: 제목10>, <Article: 제목11>, <Article: 제목12>, <Article: 제목13>, <Article: 제목14>, <Article: 제목15>, <Article: 제목16>, <Article: 제목17>, '...(remaining elements truncated)...']>"
      ]
     },
     "execution_count": 3,
     "metadata": {},
     "output_type": "execute_result"
    }
   ],
   "source": [
    "Article.objects.all()"
   ]
  },
  {
   "cell_type": "code",
   "execution_count": 4,
   "id": "d7342a77",
   "metadata": {},
   "outputs": [
    {
     "data": {
      "text/plain": [
       "<django.db.models.manager.Manager at 0x10aef79a0>"
      ]
     },
     "execution_count": 4,
     "metadata": {},
     "output_type": "execute_result"
    }
   ],
   "source": [
    "Article.objects"
   ]
  },
  {
   "cell_type": "code",
   "execution_count": 5,
   "id": "c2acf5ae",
   "metadata": {},
   "outputs": [],
   "source": [
    "q = Article.objects.all()"
   ]
  },
  {
   "cell_type": "code",
   "execution_count": 7,
   "id": "8fa7d6fc",
   "metadata": {},
   "outputs": [
    {
     "data": {
      "text/plain": [
       "django.db.models.query.QuerySet"
      ]
     },
     "execution_count": 7,
     "metadata": {},
     "output_type": "execute_result"
    }
   ],
   "source": [
    "q.__class__"
   ]
  },
  {
   "cell_type": "code",
   "execution_count": 8,
   "id": "34e37ed3",
   "metadata": {},
   "outputs": [
    {
     "data": {
      "text/plain": [
       "django.db.models.query.QuerySet"
      ]
     },
     "execution_count": 8,
     "metadata": {},
     "output_type": "execute_result"
    }
   ],
   "source": [
    "type(q)"
   ]
  },
  {
   "cell_type": "code",
   "execution_count": 9,
   "id": "bc28eae3",
   "metadata": {},
   "outputs": [
    {
     "data": {
      "text/plain": [
       "<Article: 1. 아이슬란드 오로라 (Iceland Aurora)>"
      ]
     },
     "execution_count": 9,
     "metadata": {},
     "output_type": "execute_result"
    }
   ],
   "source": [
    "q[0]"
   ]
  },
  {
   "cell_type": "code",
   "execution_count": 11,
   "id": "f5670005",
   "metadata": {},
   "outputs": [
    {
     "data": {
      "text/plain": [
       "<QuerySet [<Article: 제목1>]>"
      ]
     },
     "execution_count": 11,
     "metadata": {},
     "output_type": "execute_result"
    }
   ],
   "source": [
    "Article.objects.filter(title='제목1')"
   ]
  },
  {
   "cell_type": "code",
   "execution_count": 17,
   "id": "ab2abb29",
   "metadata": {},
   "outputs": [
    {
     "data": {
      "text/plain": [
       "<QuerySet [<Article: 1. 아이슬란드 오로라 (Iceland Aurora)>, <Article: 2. 히말라야 (Himalayas)>]>"
      ]
     },
     "execution_count": 17,
     "metadata": {},
     "output_type": "execute_result"
    }
   ],
   "source": [
    "Article.objects.exclude(title__startswith='제목')"
   ]
  },
  {
   "cell_type": "code",
   "execution_count": null,
   "id": "366c4d1d",
   "metadata": {},
   "outputs": [],
   "source": []
  },
  {
   "cell_type": "code",
   "execution_count": null,
   "id": "79e0debe",
   "metadata": {},
   "outputs": [],
   "source": []
  },
  {
   "cell_type": "code",
   "execution_count": null,
   "id": "4f370c9f",
   "metadata": {},
   "outputs": [],
   "source": []
  }
 ],
 "metadata": {
  "kernelspec": {
   "display_name": "Django Shell-Plus",
   "language": "python",
   "name": "django_extensions"
  },
  "language_info": {
   "codemirror_mode": {
    "name": "ipython",
    "version": 3
   },
   "file_extension": ".py",
   "mimetype": "text/x-python",
   "name": "python",
   "nbconvert_exporter": "python",
   "pygments_lexer": "ipython3",
   "version": "3.8.9"
  }
 },
 "nbformat": 4,
 "nbformat_minor": 5
}
